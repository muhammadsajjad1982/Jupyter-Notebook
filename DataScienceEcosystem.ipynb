{
 "cells": [
  {
   "cell_type": "markdown",
   "id": "af1ea32c-eb36-4510-915d-3f0ebbee473a",
   "metadata": {},
   "source": [
    "# Data Science Tools and Ecosystem"
   ]
  },
  {
   "cell_type": "markdown",
   "id": "72383945-4d0e-4e8e-a8c4-d180ffbbd060",
   "metadata": {},
   "source": [
    "## Introduction \n",
    "In this notebook, Data Science Tools and Ecosystem are summarized"
   ]
  },
  {
   "cell_type": "markdown",
   "id": "75434465-a7c3-426f-84d7-ee705b3e4886",
   "metadata": {},
   "source": [
    "## Data Science Languages\n",
    "1. Python\n",
    "2. R \n",
    "3. SQL\n",
    "4. Julia \n",
    "5. Java\n"
   ]
  },
  {
   "cell_type": "markdown",
   "id": "93339d4b-efd5-48e1-8811-224e40f974f5",
   "metadata": {},
   "source": [
    "## Data Science Libraries \n",
    "1. Numpy\n",
    "2. Pendas\n",
    "3. Matplotlib\n",
    "4. Seaborn\n",
    "5. PyTorch"
   ]
  },
  {
   "cell_type": "markdown",
   "id": "75be3af5-5269-4889-945e-1aa0811cf27d",
   "metadata": {},
   "source": [
    "## Data Science Tool \n",
    "| Tool             | Description          |\n",
    "| Jupyter Notebook | Welcome defined Tool |\n",
    "| R studio         | IDE Envirnment       |\n",
    "| GitHub           | Version Control      |\n",
    "| Ducker           | VM Resource Planner  |"
   ]
  },
  {
   "cell_type": "markdown",
   "id": "a69effe9-78de-4b5b-8705-d38b5c8d0fcc",
   "metadata": {},
   "source": [
    "###   Addition \n",
    "Addition Symbols will be + will be used for Add two values "
   ]
  },
  {
   "cell_type": "code",
   "execution_count": 1,
   "id": "051443dd-3e70-4d61-acc7-1141c05e6ceb",
   "metadata": {
    "tags": []
   },
   "outputs": [
    {
     "data": {
      "text/html": [
       "17"
      ],
      "text/latex": [
       "17"
      ],
      "text/markdown": [
       "17"
      ],
      "text/plain": [
       "[1] 17"
      ]
     },
     "metadata": {},
     "output_type": "display_data"
    }
   ],
   "source": [
    "(3*4)+5"
   ]
  },
  {
   "cell_type": "code",
   "execution_count": 2,
   "id": "f704ff04-996a-4991-b877-2f7ae344d9ae",
   "metadata": {
    "tags": []
   },
   "outputs": [
    {
     "name": "stdout",
     "output_type": "stream",
     "text": [
      "[1] 3.333333\n"
     ]
    }
   ],
   "source": [
    "minutes =200\n",
    "conversion_factor = 60\n",
    "hours = minutes/conversion_factor\n",
    "print(hours)"
   ]
  },
  {
   "cell_type": "markdown",
   "id": "4067672f-30ef-48a2-9ad6-5bd749366dfd",
   "metadata": {},
   "source": [
    "## Objectives\n",
    "\n",
    "**Objectives:**\n",
    "\n",
    "- Understand and list popular programming languages used in Data Science.\n",
    "- Explore common libraries and frameworks for Data Science tasks.\n",
    "- Recognize essential tools utilized in the Data Science workflow.\n",
    "- Gain insights into basic arithmetic operations and their implementation in Python.\n",
    "- Learn to create and execute Jupyter Notebook cells for interactive coding and documentation.\n"
   ]
  },
  {
   "cell_type": "markdown",
   "id": "b569620d-a47c-439d-9ee1-145b359f0825",
   "metadata": {},
   "source": [
    "## Author\n",
    "\n",
    "**Author:**\n",
    "\n",
    "Muhammad Sajjad"
   ]
  },
  {
   "cell_type": "code",
   "execution_count": null,
   "id": "378e60fc-d3a2-4348-9f3b-bf1da676bb8f",
   "metadata": {},
   "outputs": [],
   "source": []
  }
 ],
 "metadata": {
  "kernelspec": {
   "display_name": "R",
   "language": "R",
   "name": "conda-env-r-r"
  },
  "language_info": {
   "codemirror_mode": "r",
   "file_extension": ".r",
   "mimetype": "text/x-r-source",
   "name": "R",
   "pygments_lexer": "r",
   "version": "3.5.1"
  }
 },
 "nbformat": 4,
 "nbformat_minor": 5
}
