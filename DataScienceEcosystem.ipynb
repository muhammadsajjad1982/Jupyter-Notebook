{
 "cells": [
  {
   "cell_type": "markdown",
   "id": "af1ea32c-eb36-4510-915d-3f0ebbee473a",
   "metadata": {},
   "source": [
    "# Data Science Tools and Ecosystem"
   ]
  },
  {
   "cell_type": "markdown",
   "id": "72383945-4d0e-4e8e-a8c4-d180ffbbd060",
   "metadata": {},
   "source": [
    "## Introduction \n",
    "In this notebook, Data Science Tools and Ecosystem are summarized"
   ]
  },
  {
   "cell_type": "markdown",
   "id": "75434465-a7c3-426f-84d7-ee705b3e4886",
   "metadata": {},
   "source": [
    "## Data Science Languages\n",
    "\n",
    "1. **Python:** A versatile and widely used programming language with extensive libraries and frameworks for data science, machine learning, and statistical analysis.\n",
    "\n",
    "2. **R:** A statistical programming language designed for data analysis and visualization. It has a rich ecosystem of packages for statistical modeling.\n",
    "\n",
    "3. **SQL:** A domain-specific language used for managing and querying relational databases. It is essential for handling and analyzing structured data.\n",
    "\n",
    "4. **Julia:** A high-performance programming language for technical computing, often used for numerical analysis and scientific computing.\n",
    "\n",
    "5. **Scala:** A general-purpose programming language that is also used in data science, especially in combination with Apache Spark for distributed data processing.\n",
    "\n",
    "6. **MATLAB:** A proprietary programming language commonly used in engineering and scientific research, including data analysis and visualization.\n",
    "\n",
    "7. **SAS:** A software suite used for advanced analytics, business intelligence, and data management in various industries.  "
   ]
  },
  {
   "cell_type": "markdown",
   "id": "93339d4b-efd5-48e1-8811-224e40f974f5",
   "metadata": {},
   "source": [
    "## Data Science Libraries\n",
    "\n",
    "1. **Python:**\n",
    "   - **NumPy:** Provides support for large, multi-dimensional arrays and matrices, along with mathematical functions to operate on them.\n",
    "   - **Pandas:** Offers data structures like DataFrame for efficient data manipulation and analysis.\n",
    "   - **Matplotlib:** A 2D plotting library for creating static, animated, and interactive visualizations in Python.\n",
    "   - **Seaborn:** Built on Matplotlib, Seaborn provides a high-level interface for statistical data visualization.\n",
    "\n",
    "2. **Machine Learning Libraries:**\n",
    "   - **Scikit-learn:** A machine learning library providing simple and efficient tools for data mining and data analysis.\n",
    "   - **TensorFlow:** An open-source machine learning framework developed by Google for building and training deep learning models.\n",
    "   - **PyTorch:** A deep learning library known for its dynamic computational graph, suitable for research in machine learning.\n",
    "\n",
    "3. **Natural Language Processing (NLP):**\n",
    "   - **NLTK (Natural Language Toolkit):** A library for building Python programs to work with human language data.\n",
    "   - **Spacy:** An open-source library for advanced natural language processing in Python.\n",
    "\n",
    "4. **Deep Learning:**\n",
    "   - **Keras:** A high-level neural networks API, written in Python and capable of running on top of TensorFlow or Theano.\n",
    "   - **Fastai:** A deep learning library built on PyTorch, designed to make deep learning more accessible.\n",
    "\n",
    "5. **Data Visualization:**\n",
    "   - **Plotly:** A graphing library for creating interactive, publication-quality graphs and dashboards.\n",
    "   - **Bokeh:** A Python interactive visualization library that targets modern web browsers for presentation.\n",
    "\n",
    "6. **Big Data Processing:**\n",
    "   - **Apache Spark:** A fast and general-purpose cluster-computing framework for big data processing.\n",
    "   - **Dask:** A parallel computing library that integrates with existing Python libraries to enable scalable data processing.\n",
    "\n",
    "7. **Data Cleaning and Feature Engineering:**\n",
    "   - **Scrapy:** An open-source and collaborative web crawling framework for Python.\n",
    "   - **Feature-engine:** A feature engineering library for machine learning in Python.\n",
    "\n",
    "\n"
   ]
  },
  {
   "cell_type": "markdown",
   "id": "75be3af5-5269-4889-945e-1aa0811cf27d",
   "metadata": {},
   "source": [
    "## Data Science Tools\n",
    "\n",
    "| Category                | Tool              | Description                                             |\n",
    "|-------------------------|-------------------|---------------------------------------------------------|\n",
    "| **Programming Languages**| Python            | Versatile language with extensive libraries for data science, ML, and stats. |\n",
    "|                         | R                 | Statistical programming language for data analysis and visualization.      |\n",
    "|                         | SQL               | Language for managing and querying relational databases.                   |\n",
    "|                         | Julia             | High-performance language for numerical analysis and scientific computing.|\n",
    "|                         | Scala             | General-purpose language, often used with Apache Spark for distributed data processing.|\n",
    "|                         | MATLAB            | Proprietary language for engineering and scientific research.               |\n",
    "|                         | SAS               | Software suite for advanced analytics, BI, and data management.            |\n",
    "| **Data Manipulation**   | Pandas            | Data structures and tools for efficient data manipulation and analysis in Python.|\n",
    "|                         | NumPy             | Library for large, multi-dimensional arrays and matrices in Python.       |\n",
    "| **Data Visualization**  | Matplotlib        | 2D plotting library for creating static, animated, and interactive visualizations in Python.|\n",
    "|                         | Seaborn           | Statistical data visualization library based on Matplotlib.               |\n",
    "|                         | Plotly            | Graphing library for creating interactive, publication-quality graphs and dashboards.|\n",
    "|                         | Bokeh             | Interactive visualization library targeting modern web browsers.          |\n",
    "| **Machine Learning**    | Scikit-learn      | Machine learning library in Python for data mining and analysis.         |\n",
    "|                         | TensorFlow        | Open-source ML framework developed by Google for building deep learning models.|\n",
    "|                         | PyTorch           | Deep learning library with a dynamic computational graph for research in ML.|\n",
    "| **Natural Language Processing** | NLTK       | Toolkit for building Python programs to work with human language data.    |\n",
    "|                         | Spacy             | Open-source library for advanced natural language processing in Python.   |\n",
    "| **Deep Learning**       | Keras             | High-level neural networks API, often used with TensorFlow or Theano.    |\n",
    "|                         | Fastai            | Deep learning library built on PyTorch, designed to make DL more accessible.|\n",
    "| **Big Data Processing**  | Apache Spark       | Fast and general-purpose cluster-computing framework for big data processing.|\n",
    "|                         | Dask              | Parallel computing library that integrates with Python libraries for scalable data processing.|\n",
    "| **Web Scraping**        | Scrapy            | Open-source and collaborative web crawling framework for Python.          |\n",
    "| **Feature Engineering** | Feature-engine    | Feature engineering library for machine learning in Python.               |\n",
    "\n"
   ]
  },
  {
   "cell_type": "markdown",
   "id": "a69effe9-78de-4b5b-8705-d38b5c8d0fcc",
   "metadata": {},
   "source": [
    "###   Addition \n",
    "Addition Symbols will be + will be used for Add two values like a + b or a * b or a/b \n"
   ]
  },
  {
   "cell_type": "code",
   "execution_count": 1,
   "id": "051443dd-3e70-4d61-acc7-1141c05e6ceb",
   "metadata": {
    "tags": []
   },
   "outputs": [
    {
     "data": {
      "text/html": [
       "17"
      ],
      "text/latex": [
       "17"
      ],
      "text/markdown": [
       "17"
      ],
      "text/plain": [
       "[1] 17"
      ]
     },
     "metadata": {},
     "output_type": "display_data"
    }
   ],
   "source": [
    "(3*4)+5"
   ]
  },
  {
   "cell_type": "code",
   "execution_count": 2,
   "id": "f704ff04-996a-4991-b877-2f7ae344d9ae",
   "metadata": {
    "tags": []
   },
   "outputs": [
    {
     "name": "stdout",
     "output_type": "stream",
     "text": [
      "[1] 3.333333\n"
     ]
    }
   ],
   "source": [
    "minutes =200\n",
    "conversion_factor = 60\n",
    "hours = minutes/conversion_factor\n",
    "print(hours)"
   ]
  },
  {
   "cell_type": "markdown",
   "id": "4067672f-30ef-48a2-9ad6-5bd749366dfd",
   "metadata": {},
   "source": [
    "## Objectives\n",
    "\n",
    "1. **Data Exploration and Analysis:**\n",
    "   - Conduct exploratory data analysis (EDA) to understand the structure and patterns in the data.\n",
    "   - Perform statistical analysis to uncover insights and relationships within the dataset.\n",
    "\n",
    "2. **Machine Learning Modeling:**\n",
    "   - Build and train machine learning models for predictive analytics.\n",
    "   - Evaluate and fine-tune models for optimal performance using techniques like cross-validation.\n",
    "\n",
    "3. **Data Visualization:**\n",
    "   - Create informative and visually appealing visualizations to communicate findings.\n",
    "   - Utilize graphs, charts, and dashboards for effective data storytelling.\n",
    "\n",
    "4. **Feature Engineering:**\n",
    "   - Identify and create relevant features to enhance model performance.\n",
    "   - Apply techniques to preprocess and transform data for better model input.\n",
    "\n",
    "5. **Model Interpretability:**\n",
    "   - Understand and interpret machine learning model outputs.\n",
    "   - Use tools and techniques to explain model decisions and predictions.\n",
    "\n",
    "6. **Collaboration and Communication:**\n",
    "   - Collaborate with cross-functional teams, including domain experts and stakeholders.\n",
    "   - Clearly communicate findings, insights, and recommendations to both technical and non-technical audiences.\n",
    "\n",
    "7. **Continuous Learning:**\n",
    "   - Stay updated with the latest developments in data science, machine learning, and related fields.\n",
    "   - Engage in ongoing learning, attend conferences, and participate in relevant communities.\n",
    "\n",
    "8. **Ethical Considerations:**\n",
    "   - Be mindful of ethical considerations in data collection, analysis, and model deployment.\n",
    "   - Ensure fairness, transparency, and accountability in data science practices.\n",
    "\n",
    "9. **Reproducibility:**\n",
    "   - Implement practices to make analyses and experiments reproducible.\n",
    "   - Document code, methodologies, and results for transparency and knowledge sharing.\n",
    "\n",
    "10. **Problem Solving:**\n",
    "    - Apply critical thinking and problem-solving skills to address real-world challenges.\n",
    "    - Iterate and refine approaches based on feedback and new information.\n",
    "\n"
   ]
  },
  {
   "cell_type": "markdown",
   "id": "b569620d-a47c-439d-9ee1-145b359f0825",
   "metadata": {},
   "source": [
    "## Author\n",
    "\n",
    "**Author:**\n",
    "\n",
    "Muhammad Sajjad"
   ]
  },
  {
   "cell_type": "code",
   "execution_count": null,
   "id": "378e60fc-d3a2-4348-9f3b-bf1da676bb8f",
   "metadata": {},
   "outputs": [],
   "source": []
  }
 ],
 "metadata": {
  "kernelspec": {
   "display_name": "R",
   "language": "R",
   "name": "conda-env-r-r"
  },
  "language_info": {
   "codemirror_mode": "r",
   "file_extension": ".r",
   "mimetype": "text/x-r-source",
   "name": "R",
   "pygments_lexer": "r",
   "version": "3.5.1"
  }
 },
 "nbformat": 4,
 "nbformat_minor": 5
}
